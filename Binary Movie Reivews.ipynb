{
 "cells": [
  {
   "cell_type": "code",
   "execution_count": 12,
   "metadata": {},
   "outputs": [
    {
     "name": "stdout",
     "output_type": "stream",
     "text": [
      "Epoch 1/4\n",
      "25000/25000 [==============================] - 5s 201us/step - loss: 0.4496 - acc: 0.8165 3s\n",
      "Epoch 2/4\n",
      "25000/25000 [==============================] - 4s 168us/step - loss: 0.2552 - acc: 0.9093\n",
      "Epoch 3/4\n",
      "25000/25000 [==============================] - 4s 172us/step - loss: 0.1970 - acc: 0.9298 2s \n",
      "Epoch 4/4\n",
      "25000/25000 [==============================] - 4s 166us/step - loss: 0.1669 - acc: 0.9409\n",
      "25000/25000 [==============================] - 5s 210us/step\n",
      "test_acc:  0.8834\n",
      "test_loss:  0.2946304900979996\n"
     ]
    }
   ],
   "source": [
    "# Daeseob Lim\n",
    "# 7/22/2019\n",
    "# Code studied from Deep Learning with Python\n",
    "# Credits/Author: Francois Chollet\n",
    "\n",
    "# Binary Classification Movie Reviews\n",
    "\n",
    "import keras\n",
    "import numpy as np\n",
    "from keras import models\n",
    "from keras import layers\n",
    "from keras.datasets import imdb\n",
    "from keras import optimizers\n",
    "\n",
    "# Getting Data\n",
    "(train_data, train_labels), (test_data, test_labels) = imdb.load_data(num_words=10000)\n",
    "\n",
    "# Vectorize the data in one-hot-encode\n",
    "# The vector will be vector of 0's and 1's\n",
    "# The data gives index to where the 1's should go\n",
    "def vectorize_sequences(sequences, dimension=10000):\n",
    "    # Create an all-zero matrix of shape (len(sequences), dimension)\n",
    "    results = np.zeros((len(sequences), dimension))\n",
    "    for i, sequence in enumerate(sequences):\n",
    "        results[i, sequence] = 1.  # set specific indices of results[i] to 1s\n",
    "    return results\n",
    "\n",
    "# Vectorized data\n",
    "x_train = vectorize_sequences(train_data)\n",
    "x_test = vectorize_sequences(test_data)\n",
    "\n",
    "# Vectorize labels\n",
    "# Vector of 0's and 1's\n",
    "y_train = np.asarray(train_labels).astype('float32')\n",
    "y_test = np.asarray(test_labels).astype('float32')\n",
    "\n",
    "# Setting up network structure\n",
    "model = models.Sequential()\n",
    "model.add(layers.Dense(16, activation='relu', input_shape=(10000,)))\n",
    "model.add(layers.Dense(16, activation='relu'))\n",
    "model.add(layers.Dense(1, activation='sigmoid'))\n",
    "\n",
    "# You can pass in specific arguments into optimizers.\n",
    "# Here, learning rate of .001 is passed in. Learning rate determines how much the weight is changed during back propagation\n",
    "# Binary crossentory is best for probability\n",
    "model.compile(optimizer=optimizers.RMSprop(lr=0.001),\n",
    "              loss='binary_crossentropy',\n",
    "              metrics=['accuracy'])\n",
    "\n",
    "# Fitting data\n",
    "model.fit(x_train, y_train, epochs=4, batch_size=512)\n",
    "\n",
    "# Results on test data\n",
    "test_loss, test_acc = model.evaluate(x_test, y_test)\n",
    "print('test_acc: ', test_acc)\n",
    "print('test_loss: ', test_loss)"
   ]
  },
  {
   "cell_type": "code",
   "execution_count": null,
   "metadata": {},
   "outputs": [],
   "source": []
  }
 ],
 "metadata": {
  "kernelspec": {
   "display_name": "Python 3",
   "language": "python",
   "name": "python3"
  },
  "language_info": {
   "codemirror_mode": {
    "name": "ipython",
    "version": 3
   },
   "file_extension": ".py",
   "mimetype": "text/x-python",
   "name": "python",
   "nbconvert_exporter": "python",
   "pygments_lexer": "ipython3",
   "version": "3.6.8"
  }
 },
 "nbformat": 4,
 "nbformat_minor": 2
}
